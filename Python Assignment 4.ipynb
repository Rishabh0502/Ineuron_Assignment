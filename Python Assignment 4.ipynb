{
 "cells": [
  {
   "cell_type": "markdown",
   "metadata": {},
   "source": [
    "1.1 Write a Python Program(with class concepts) to find the area of the triangle using the below\n",
    "formula."
   ]
  },
  {
   "cell_type": "code",
   "execution_count": 16,
   "metadata": {},
   "outputs": [
    {
     "name": "stdout",
     "output_type": "stream",
     "text": [
      "Please Enter the sides length of triangle\n",
      "side_1 = 12\n",
      "side_2 = 34\n",
      "side_3 = 23\n",
      "Area of the triangle is 66.80896272207794\n"
     ]
    }
   ],
   "source": [
    "print('Please Enter the sides length of triangle')\n",
    "side_1 = input('side_1 = ')\n",
    "side_2=  input('side_2 = ')\n",
    "side_3=  input('side_3 = ')\n",
    "class define_var:\n",
    "    def __init__(self,a,b,c):\n",
    "        self.a = float(a)\n",
    "        self.b = float(b)\n",
    "        self.c = float(c)\n",
    "class area_of_triange(define_var):\n",
    "    def __init__(self,a,b,c):\n",
    "        define_var.__init__(self,a,b,c)\n",
    "    def area(self):\n",
    "        s = (self.a+self.b+self.c)/2\n",
    "        area51 = (s*(s-self.a)*(s-self.b)*(s-self.c)) ** 0.5\n",
    "        return area51\n",
    "\n",
    "emp = area_of_triange(side_1,side_2,side_3)\n",
    "area_of_triangle= emp.area()\n",
    "print(\"Area of the triangle is {}\".format(area_of_triangle))\n",
    "\n"
   ]
  },
  {
   "cell_type": "code",
   "execution_count": null,
   "metadata": {},
   "outputs": [],
   "source": []
  },
  {
   "cell_type": "code",
   "execution_count": null,
   "metadata": {},
   "outputs": [],
   "source": []
  },
  {
   "cell_type": "code",
   "execution_count": null,
   "metadata": {},
   "outputs": [],
   "source": []
  },
  {
   "cell_type": "markdown",
   "metadata": {},
   "source": [
    "1.2 Write a function filter_long_words() that takes a list of words and an integer n and returns\n",
    "the list of words that are longer than n."
   ]
  },
  {
   "cell_type": "code",
   "execution_count": 52,
   "metadata": {},
   "outputs": [
    {
     "name": "stdout",
     "output_type": "stream",
     "text": [
      "Please enter how many words you wants to enter in List - 5\n",
      "Word1 - Apple\n",
      "Word2 - Banana\n",
      "Word3 - Papaya\n",
      "Word4 - Hi\n",
      "Word5 - Hell\n",
      "Please enter the a word limit number- 3\n",
      "['Apple', 'Banana', 'Papaya', 'Hell']\n"
     ]
    }
   ],
   "source": [
    "def filter_long_words(word_list,num):\n",
    "    list1=[]\n",
    "    for i in word_list:\n",
    "        if len(i) > num:\n",
    "            list1.append(i)\n",
    "    return list1\n",
    "\n",
    "\n",
    "count = int(input('Please enter how many words you wants to enter in List - '))\n",
    "word_list=[]\n",
    "for i in range(count):\n",
    "    word_list.append(input('Word{} - '.format(i+1)))\n",
    "\n",
    "\n",
    "word_limit = int(input('Please enter the a word limit number- '))\n",
    "list2 = filter_long_words(word_list,word_limit)\n",
    "\n",
    "print(list2)\n"
   ]
  },
  {
   "cell_type": "code",
   "execution_count": null,
   "metadata": {},
   "outputs": [],
   "source": []
  },
  {
   "cell_type": "code",
   "execution_count": null,
   "metadata": {},
   "outputs": [],
   "source": []
  },
  {
   "cell_type": "markdown",
   "metadata": {},
   "source": [
    "2.1 Write a Python program using function concept that maps list of words into a list of integers\n",
    "representing the lengths of the corresponding words."
   ]
  },
  {
   "cell_type": "code",
   "execution_count": 54,
   "metadata": {},
   "outputs": [
    {
     "name": "stdout",
     "output_type": "stream",
     "text": [
      "Please enter how many words you wants to enter in List - 3\n",
      "Word1 - Rishabh\n",
      "Word2 - Saxena\n",
      "Word3 - Ineuron\n",
      "Length of the words in the list ['Rishabh', 'Saxena', 'Ineuron'] is [7, 6, 7]\n"
     ]
    }
   ],
   "source": [
    "#word_limt = ['Hi','Hellow','Rishabh']\n",
    "\n",
    "def length_of_words(word_limt):\n",
    "    list2=[]\n",
    "    for i in word_limt:\n",
    "        list2.append(len(i))\n",
    "    return list2\n",
    "\n",
    "count = int(input('Please enter how many words you wants to enter in List - '))\n",
    "word_list=[]\n",
    "for i in range(count):\n",
    "    word_list.append(input('Word{} - '.format(i+1)))\n",
    "    \n",
    "\n",
    "out_list=length_of_words(word_list)\n",
    "print('Length of the words in the list {} is {}'.format(word_list,out_list))\n"
   ]
  },
  {
   "cell_type": "code",
   "execution_count": null,
   "metadata": {},
   "outputs": [],
   "source": []
  },
  {
   "cell_type": "code",
   "execution_count": null,
   "metadata": {},
   "outputs": [],
   "source": []
  },
  {
   "cell_type": "markdown",
   "metadata": {},
   "source": [
    "2.2 Write a Python function which takes a character (i.e. a string of length 1) and returns True if\n",
    "it is a vowel, False otherwise."
   ]
  },
  {
   "cell_type": "code",
   "execution_count": 55,
   "metadata": {},
   "outputs": [
    {
     "name": "stdout",
     "output_type": "stream",
     "text": [
      "Please enter a character to check- a\n",
      "The character \"a\" is vowel\n"
     ]
    }
   ],
   "source": [
    "def isvowel(char1):\n",
    "    if char1.lower() in 'aeiou':\n",
    "        return True\n",
    "    else:\n",
    "        return False\n",
    "char1 = input('Please enter a character to check- ')\n",
    "\n",
    "if isvowel(char1):\n",
    "    print('The character \"{}\" is vowel'.format(char1))\n",
    "else:\n",
    "    print('The character \"{}\" is not vowel'.format(char1))"
   ]
  },
  {
   "cell_type": "code",
   "execution_count": null,
   "metadata": {},
   "outputs": [],
   "source": []
  },
  {
   "cell_type": "code",
   "execution_count": null,
   "metadata": {},
   "outputs": [],
   "source": []
  },
  {
   "cell_type": "code",
   "execution_count": null,
   "metadata": {},
   "outputs": [],
   "source": []
  },
  {
   "cell_type": "code",
   "execution_count": null,
   "metadata": {},
   "outputs": [],
   "source": []
  },
  {
   "cell_type": "code",
   "execution_count": null,
   "metadata": {},
   "outputs": [],
   "source": []
  }
 ],
 "metadata": {
  "kernelspec": {
   "display_name": "Python 3",
   "language": "python",
   "name": "python3"
  },
  "language_info": {
   "codemirror_mode": {
    "name": "ipython",
    "version": 3
   },
   "file_extension": ".py",
   "mimetype": "text/x-python",
   "name": "python",
   "nbconvert_exporter": "python",
   "pygments_lexer": "ipython3",
   "version": "3.7.4"
  }
 },
 "nbformat": 4,
 "nbformat_minor": 2
}
